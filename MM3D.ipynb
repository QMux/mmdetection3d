{
 "cells": [
  {
   "cell_type": "markdown",
   "id": "09e901e8-d46b-4e1c-bb16-696ea835dcdc",
   "metadata": {},
   "source": [
    "# Continuing from a pre-trained model"
   ]
  },
  {
   "cell_type": "code",
   "execution_count": 1,
   "id": "40a1f8ad-90c1-42fb-8552-c94ceb56277a",
   "metadata": {},
   "outputs": [
    {
     "name": "stdout",
     "output_type": "stream",
     "text": [
      "--2022-08-22 21:48:52--  https://download.openmmlab.com/mmdetection3d/v1.0.0_models/pointpillars/hv_pointpillars_secfpn_6x8_160e_kitti-3d-3class/hv_pointpillars_secfpn_6x8_160e_kitti-3d-3class_20220301_150306-37dc2420.pth\n",
      "Resolving download.openmmlab.com (download.openmmlab.com)... ^C\n"
     ]
    }
   ],
   "source": [
    "# Download the model from online\n",
    "!wget https://download.openmmlab.com/mmdetection3d/v1.0.0_models/pointpillars/hv_pointpillars_secfpn_6x8_160e_kitti-3d-3class/hv_pointpillars_secfpn_6x8_160e_kitti-3d-3class_20220301_150306-37dc2420.pth"
   ]
  },
  {
   "cell_type": "code",
   "execution_count": null,
   "id": "4da5de01-3865-4b30-b40f-96abe81fa5e4",
   "metadata": {},
   "outputs": [],
   "source": [
    "# Train the model for a couple of epochs.  Currently set to 3 epochs\n",
    "!python3 tools/train.py configs/pointpillars/hv_pointpillars_secfpn_6x8_160e_kitti-3d-3class.py --resume-from hv_pointpillars_secfpn_6x8_160e_kitti-3d-3class_20220301_150306-37dc2420.pth"
   ]
  },
  {
   "cell_type": "code",
   "execution_count": 3,
   "id": "96762bc6-eecf-4991-8ee2-684469b9ef2d",
   "metadata": {},
   "outputs": [
    {
     "name": "stdout",
     "output_type": "stream",
     "text": [
      "/scratch/cmpe249-fa22/015354820/venvpy37cu10/lib/python3.7/site-packages/mmdet/utils/setup_env.py:39: UserWarning: Setting OMP_NUM_THREADS environment variable for each process to be 1 in default, to avoid your system being overloaded, please further tune the variable for optimal performance in your application as needed.\n",
      "  f'Setting OMP_NUM_THREADS environment variable for each process '\n",
      "/scratch/cmpe249-fa22/015354820/venvpy37cu10/lib/python3.7/site-packages/mmdet/utils/setup_env.py:49: UserWarning: Setting MKL_NUM_THREADS environment variable for each process to be 1 in default, to avoid your system being overloaded, please further tune the variable for optimal performance in your application as needed.\n",
      "  f'Setting MKL_NUM_THREADS environment variable for each process '\n",
      "/scratch/cmpe249-fa22/015354820/mmdetection3d/mmdet3d/models/dense_heads/anchor3d_head.py:85: UserWarning: dir_offset and dir_limit_offset will be depressed and be incorporated into box coder in the future\n",
      "  'dir_offset and dir_limit_offset will be depressed and be '\n",
      "load checkpoint from local path: work_dirs/hv_pointpillars_secfpn_6x8_160e_kitti-3d-3class/epoch_83.pth\n",
      "[>>>>>>>>>>>>>>>>>>>>>>>>>>>] 1497/1497, 23.4 task/s, elapsed: 64s, ETA:     0s\n",
      "writing results to results.pkl\n",
      "\n",
      "Converting prediction to KITTI format\n",
      "[>>>>>>>>>>>>>>>>>>>>>>>>>>>] 1497/1497, 403.3 task/s, elapsed: 4s, ETA:     0s\n",
      "Result is saved to /tmp/tmp73m_ka0j/results.pkl.\n",
      "\n",
      "\n",
      "----------- AP11 Results ------------\n",
      "\n",
      "Pedestrian AP11@0.50, 0.50, 0.50:\n",
      "bbox AP11:57.1193, 51.6942, 48.3191\n",
      "bev  AP11:55.2253, 49.0981, 45.4998\n",
      "3d   AP11:51.0262, 45.6036, 41.2605\n",
      "aos  AP11:28.51, 25.56, 23.92\n",
      "Pedestrian AP11@0.50, 0.25, 0.25:\n",
      "bbox AP11:57.1193, 51.6942, 48.3191\n",
      "bev  AP11:65.0984, 58.8976, 54.5403\n",
      "3d   AP11:65.0879, 58.8074, 54.4330\n",
      "aos  AP11:28.51, 25.56, 23.92\n",
      "Cyclist AP11@0.50, 0.50, 0.50:\n",
      "bbox AP11:71.8630, 66.9779, 64.3335\n",
      "bev  AP11:61.1750, 52.2249, 50.3324\n",
      "3d   AP11:56.4229, 45.6758, 42.8788\n",
      "aos  AP11:37.12, 34.35, 33.05\n",
      "Cyclist AP11@0.50, 0.25, 0.25:\n",
      "bbox AP11:71.8630, 66.9779, 64.3335\n",
      "bev  AP11:72.1016, 62.2850, 60.1045\n",
      "3d   AP11:70.8538, 62.0734, 59.9501\n",
      "aos  AP11:37.12, 34.35, 33.05\n",
      "Car AP11@0.70, 0.70, 0.70:\n",
      "bbox AP11:76.5805, 67.3951, 63.1793\n",
      "bev  AP11:87.7491, 76.0499, 68.8524\n",
      "3d   AP11:30.4274, 24.4302, 25.5545\n",
      "aos  AP11:73.34, 62.11, 56.88\n",
      "Car AP11@0.70, 0.50, 0.50:\n",
      "bbox AP11:76.5805, 67.3951, 63.1793\n",
      "bev  AP11:97.0063, 88.6944, 87.0078\n",
      "3d   AP11:89.6257, 84.5472, 79.0107\n",
      "aos  AP11:73.34, 62.11, 56.88\n",
      "\n",
      "Overall AP11@easy, moderate, hard:\n",
      "bbox AP11:68.5209, 62.0224, 58.6106\n",
      "bev  AP11:68.0498, 59.1243, 54.8949\n",
      "3d   AP11:45.9589, 38.5699, 36.5646\n",
      "aos  AP11:46.32, 40.67, 37.95\n",
      "\n",
      "----------- AP40 Results ------------\n",
      "\n",
      "Pedestrian AP40@0.50, 0.50, 0.50:\n",
      "bbox AP40:56.8431, 50.7363, 46.8327\n",
      "bev  AP40:54.0260, 47.3353, 43.8364\n",
      "3d   AP40:49.1853, 43.0902, 39.2916\n",
      "aos  AP40:28.32, 24.82, 22.94\n",
      "Pedestrian AP40@0.50, 0.25, 0.25:\n",
      "bbox AP40:56.8431, 50.7363, 46.8327\n",
      "bev  AP40:65.4578, 58.4427, 53.6300\n",
      "3d   AP40:65.4508, 58.0502, 53.4843\n",
      "aos  AP40:28.32, 24.82, 22.94\n",
      "Cyclist AP40@0.50, 0.50, 0.50:\n",
      "bbox AP40:73.0768, 66.8163, 63.8946\n",
      "bev  AP40:61.4707, 50.0073, 48.1372\n",
      "3d   AP40:54.7517, 43.4184, 40.6291\n",
      "aos  AP40:37.68, 34.24, 32.82\n",
      "Cyclist AP40@0.50, 0.25, 0.25:\n",
      "bbox AP40:73.0768, 66.8163, 63.8946\n",
      "bev  AP40:73.3587, 62.6348, 59.8394\n",
      "3d   AP40:72.6224, 62.4106, 59.3542\n",
      "aos  AP40:37.68, 34.24, 32.82\n",
      "Car AP40@0.70, 0.70, 0.70:\n",
      "bbox AP40:76.3705, 66.6327, 63.6290\n",
      "bev  AP40:90.6639, 76.1038, 71.4712\n",
      "3d   AP40:29.4064, 24.0565, 23.8203\n",
      "aos  AP40:72.93, 60.91, 56.65\n",
      "Car AP40@0.70, 0.50, 0.50:\n",
      "bbox AP40:76.3705, 66.6327, 63.6290\n",
      "bev  AP40:98.2504, 91.6746, 88.7543\n",
      "3d   AP40:94.9997, 85.6760, 82.9016\n",
      "aos  AP40:72.93, 60.91, 56.65\n",
      "\n",
      "Overall AP40@easy, moderate, hard:\n",
      "bbox AP40:68.7635, 61.3951, 58.1187\n",
      "bev  AP40:68.7202, 57.8154, 54.4816\n",
      "3d   AP40:44.4478, 36.8550, 34.5803\n",
      "aos  AP40:46.31, 39.99, 37.47\n",
      "\n",
      "{'KITTI/Pedestrian_3D_AP11_easy_strict': 51.02624790464463, 'KITTI/Pedestrian_BEV_AP11_easy_strict': 55.22530530722462, 'KITTI/Pedestrian_2D_AP11_easy_strict': 57.11931690677127, 'KITTI/Pedestrian_3D_AP11_moderate_strict': 45.60360749650776, 'KITTI/Pedestrian_BEV_AP11_moderate_strict': 49.09814894645246, 'KITTI/Pedestrian_2D_AP11_moderate_strict': 51.69423520661023, 'KITTI/Pedestrian_3D_AP11_hard_strict': 41.26054784369792, 'KITTI/Pedestrian_BEV_AP11_hard_strict': 45.49983537446807, 'KITTI/Pedestrian_2D_AP11_hard_strict': 48.31908605968627, 'KITTI/Pedestrian_3D_AP11_easy_loose': 65.08793825111894, 'KITTI/Pedestrian_BEV_AP11_easy_loose': 65.09843981198725, 'KITTI/Pedestrian_2D_AP11_easy_loose': 57.11931690677127, 'KITTI/Pedestrian_3D_AP11_moderate_loose': 58.807404697394226, 'KITTI/Pedestrian_BEV_AP11_moderate_loose': 58.89762050790536, 'KITTI/Pedestrian_2D_AP11_moderate_loose': 51.69423520661023, 'KITTI/Pedestrian_3D_AP11_hard_loose': 54.43302889814623, 'KITTI/Pedestrian_BEV_AP11_hard_loose': 54.54030539809004, 'KITTI/Pedestrian_2D_AP11_hard_loose': 48.31908605968627, 'KITTI/Cyclist_3D_AP11_easy_strict': 56.422868492859045, 'KITTI/Cyclist_BEV_AP11_easy_strict': 61.17499592977145, 'KITTI/Cyclist_2D_AP11_easy_strict': 71.86301860575657, 'KITTI/Cyclist_3D_AP11_moderate_strict': 45.675842155560865, 'KITTI/Cyclist_BEV_AP11_moderate_strict': 52.22490458069867, 'KITTI/Cyclist_2D_AP11_moderate_strict': 66.9779353572253, 'KITTI/Cyclist_3D_AP11_hard_strict': 42.878768065138026, 'KITTI/Cyclist_BEV_AP11_hard_strict': 50.33238505158148, 'KITTI/Cyclist_2D_AP11_hard_strict': 64.33354625653116, 'KITTI/Cyclist_3D_AP11_easy_loose': 70.85378282782074, 'KITTI/Cyclist_BEV_AP11_easy_loose': 72.10164989641974, 'KITTI/Cyclist_2D_AP11_easy_loose': 71.86301860575657, 'KITTI/Cyclist_3D_AP11_moderate_loose': 62.07341825930016, 'KITTI/Cyclist_BEV_AP11_moderate_loose': 62.28502033864306, 'KITTI/Cyclist_2D_AP11_moderate_loose': 66.9779353572253, 'KITTI/Cyclist_3D_AP11_hard_loose': 59.95006585096168, 'KITTI/Cyclist_BEV_AP11_hard_loose': 60.104457334408245, 'KITTI/Cyclist_2D_AP11_hard_loose': 64.33354625653116, 'KITTI/Car_3D_AP11_easy_strict': 30.427446446609242, 'KITTI/Car_BEV_AP11_easy_strict': 87.7490923551866, 'KITTI/Car_2D_AP11_easy_strict': 76.5804824775946, 'KITTI/Car_3D_AP11_moderate_strict': 24.430193576695558, 'KITTI/Car_BEV_AP11_moderate_strict': 76.04992526810125, 'KITTI/Car_2D_AP11_moderate_strict': 67.39511554057869, 'KITTI/Car_3D_AP11_hard_strict': 25.55446773551791, 'KITTI/Car_BEV_AP11_hard_strict': 68.85236362855476, 'KITTI/Car_2D_AP11_hard_strict': 63.17927320848011, 'KITTI/Car_3D_AP11_easy_loose': 89.62565304844354, 'KITTI/Car_BEV_AP11_easy_loose': 97.00630180665756, 'KITTI/Car_2D_AP11_easy_loose': 76.5804824775946, 'KITTI/Car_3D_AP11_moderate_loose': 84.54721385051491, 'KITTI/Car_BEV_AP11_moderate_loose': 88.69435937062597, 'KITTI/Car_2D_AP11_moderate_loose': 67.39511554057869, 'KITTI/Car_3D_AP11_hard_loose': 79.01072340873291, 'KITTI/Car_BEV_AP11_hard_loose': 87.00777984082319, 'KITTI/Car_2D_AP11_hard_loose': 63.17927320848011, 'KITTI/Overall_3D_AP11_easy': 45.958854281370975, 'KITTI/Overall_BEV_AP11_easy': 68.04979786406089, 'KITTI/Overall_2D_AP11_easy': 68.5209393300408, 'KITTI/Overall_3D_AP11_moderate': 38.569881076254724, 'KITTI/Overall_BEV_AP11_moderate': 59.12432626508413, 'KITTI/Overall_2D_AP11_moderate': 62.022428701471405, 'KITTI/Overall_3D_AP11_hard': 36.56459454811795, 'KITTI/Overall_BEV_AP11_hard': 54.89486135153478, 'KITTI/Overall_2D_AP11_hard': 58.61063517489919, 'KITTI/Pedestrian_3D_AP40_easy_strict': 49.18526039828633, 'KITTI/Pedestrian_BEV_AP40_easy_strict': 54.025964609405555, 'KITTI/Pedestrian_2D_AP40_easy_strict': 56.84308514274827, 'KITTI/Pedestrian_3D_AP40_moderate_strict': 43.09016454617184, 'KITTI/Pedestrian_BEV_AP40_moderate_strict': 47.335260810685384, 'KITTI/Pedestrian_2D_AP40_moderate_strict': 50.73629968943515, 'KITTI/Pedestrian_3D_AP40_hard_strict': 39.29155338712486, 'KITTI/Pedestrian_BEV_AP40_hard_strict': 43.83635017126915, 'KITTI/Pedestrian_2D_AP40_hard_strict': 46.83267202649163, 'KITTI/Pedestrian_3D_AP40_easy_loose': 65.45077364278589, 'KITTI/Pedestrian_BEV_AP40_easy_loose': 65.45783258963918, 'KITTI/Pedestrian_2D_AP40_easy_loose': 56.84308514274827, 'KITTI/Pedestrian_3D_AP40_moderate_loose': 58.05024798715611, 'KITTI/Pedestrian_BEV_AP40_moderate_loose': 58.442698040374, 'KITTI/Pedestrian_2D_AP40_moderate_loose': 50.73629968943515, 'KITTI/Pedestrian_3D_AP40_hard_loose': 53.48432136199881, 'KITTI/Pedestrian_BEV_AP40_hard_loose': 53.62999655691005, 'KITTI/Pedestrian_2D_AP40_hard_loose': 46.83267202649163, 'KITTI/Cyclist_3D_AP40_easy_strict': 54.75165406211705, 'KITTI/Cyclist_BEV_AP40_easy_strict': 61.47065127342582, 'KITTI/Cyclist_2D_AP40_easy_strict': 73.07682659999084, 'KITTI/Cyclist_3D_AP40_moderate_strict': 43.41842292208459, 'KITTI/Cyclist_BEV_AP40_moderate_strict': 50.007292591945905, 'KITTI/Cyclist_2D_AP40_moderate_strict': 66.81632736223135, 'KITTI/Cyclist_3D_AP40_hard_strict': 40.62912445381245, 'KITTI/Cyclist_BEV_AP40_hard_strict': 48.13717807807743, 'KITTI/Cyclist_2D_AP40_hard_strict': 63.89455466304149, 'KITTI/Cyclist_3D_AP40_easy_loose': 72.6224341831154, 'KITTI/Cyclist_BEV_AP40_easy_loose': 73.35869977544533, 'KITTI/Cyclist_2D_AP40_easy_loose': 73.07682659999084, 'KITTI/Cyclist_3D_AP40_moderate_loose': 62.410600762442655, 'KITTI/Cyclist_BEV_AP40_moderate_loose': 62.634775706419, 'KITTI/Cyclist_2D_AP40_moderate_loose': 66.81632736223135, 'KITTI/Cyclist_3D_AP40_hard_loose': 59.35416711650272, 'KITTI/Cyclist_BEV_AP40_hard_loose': 59.83937200941928, 'KITTI/Cyclist_2D_AP40_hard_loose': 63.89455466304149, 'KITTI/Car_3D_AP40_easy_strict': 29.40641197681443, 'KITTI/Car_BEV_AP40_easy_strict': 90.66389499594348, 'KITTI/Car_2D_AP40_easy_strict': 76.37045219853033, 'KITTI/Car_3D_AP40_moderate_strict': 24.05645701372908, 'KITTI/Car_BEV_AP40_moderate_strict': 76.10376030872249, 'KITTI/Car_2D_AP40_moderate_strict': 66.63268852025357, 'KITTI/Car_3D_AP40_hard_strict': 23.820277363329936, 'KITTI/Car_BEV_AP40_hard_strict': 71.47117440062118, 'KITTI/Car_2D_AP40_hard_strict': 63.62902067540348, 'KITTI/Car_3D_AP40_easy_loose': 94.99968525395073, 'KITTI/Car_BEV_AP40_easy_loose': 98.25038699193455, 'KITTI/Car_2D_AP40_easy_loose': 76.37045219853033, 'KITTI/Car_3D_AP40_moderate_loose': 85.6760452277486, 'KITTI/Car_BEV_AP40_moderate_loose': 91.67464616048889, 'KITTI/Car_2D_AP40_moderate_loose': 66.63268852025357, 'KITTI/Car_3D_AP40_hard_loose': 82.9015670223433, 'KITTI/Car_BEV_AP40_hard_loose': 88.75429285870702, 'KITTI/Car_2D_AP40_hard_loose': 63.62902067540348, 'KITTI/Overall_3D_AP40_easy': 44.44777547907261, 'KITTI/Overall_BEV_AP40_easy': 68.72017029292495, 'KITTI/Overall_2D_AP40_easy': 68.76345464708982, 'KITTI/Overall_3D_AP40_moderate': 36.855014827328496, 'KITTI/Overall_BEV_AP40_moderate': 57.81543790378459, 'KITTI/Overall_2D_AP40_moderate': 61.39510519064002, 'KITTI/Overall_3D_AP40_hard': 34.58031840142242, 'KITTI/Overall_BEV_AP40_hard': 54.48156754998926, 'KITTI/Overall_2D_AP40_hard': 58.11874912164554}\n",
      "\u001b[0m"
     ]
    }
   ],
   "source": [
    "# Test the model, and print out the mean average precision results\n",
    "!python3 tools/test.py --out results.pkl configs/pointpillars/hv_pointpillars_secfpn_6x8_160e_kitti-3d-3class.py work_dirs/hv_pointpillars_secfpn_6x8_160e_kitti-3d-3class/epoch_83.pth --eval mAP"
   ]
  },
  {
   "cell_type": "markdown",
   "id": "252cec03-20ce-4650-8fde-dc52186e957a",
   "metadata": {},
   "source": [
    "Inference occurs at a rate of approximately 23 Hz.  In one second, about 23 different sets can be processed."
   ]
  },
  {
   "cell_type": "markdown",
   "id": "f0d3fd5b-be30-4866-93ec-5037aa9b3323",
   "metadata": {},
   "source": [
    "Overall, the model appears to have a difficult time finding cars @ 0.70, but does seem to have a much easier time finding cars @ 0.50.  \n",
    "The current best scores for KITTI on the website are from TED, which has scores 91.61% of easy, 85.28% for moderate, and 80.68% for hard.\n",
    "In comparison, this model scores 45.96% for easy, 38.57% for moderate, and 36.57 for hard."
   ]
  },
  {
   "cell_type": "markdown",
   "id": "2d34825c-acdf-43bf-935c-379c1355d0cf",
   "metadata": {},
   "source": [
    "# Some data exploration...."
   ]
  },
  {
   "cell_type": "code",
   "execution_count": 5,
   "id": "293862dd-9829-4c53-a7eb-5668ec052e6f",
   "metadata": {},
   "outputs": [],
   "source": [
    "import pickle\n",
    "with open(\"results.pkl\", 'rb') as f:\n",
    "    data = pickle.load(f)"
   ]
  },
  {
   "cell_type": "code",
   "execution_count": 6,
   "id": "b26e9fa5-4178-4782-8017-c961ed2d7c41",
   "metadata": {},
   "outputs": [
    {
     "name": "stdout",
     "output_type": "stream",
     "text": [
      "1497\n",
      "{'boxes_3d': LiDARInstance3DBoxes(\n",
      "    tensor([[  8.7284,  -1.8316,  -1.6360,   0.7522,   1.0584,   1.8673,   3.2144],\n",
      "        [ 20.6865,  15.2155,  -2.0186,   0.6993,   1.0132,   1.7447,   3.0715],\n",
      "        [ 18.1259,  -6.3116,  -1.7224,   0.7637,   0.8015,   1.7446,   4.5839],\n",
      "        [  5.6182,  -3.2687,  -1.9635,   0.6787,   0.8316,   1.6641,   3.1074],\n",
      "        [ 13.3218,   9.3481,  -1.3721,   0.6692,   0.7541,   1.8032,  -1.3921],\n",
      "        [ 13.9474,   6.4501,  -1.4702,   0.7957,   0.7975,   1.7907,  -1.1983],\n",
      "        [  5.6258,  -4.3419,  -2.1142,   0.7270,   0.6609,   1.7056,  -0.0595],\n",
      "        [ 13.2602,   1.2271,  -1.5484,   0.7307,   0.7285,   1.7123,  -1.4217],\n",
      "        [ 13.2910,  -1.1885,  -1.6218,   0.7608,   0.7862,   1.7529,  -1.4010],\n",
      "        [ 14.4975,  -3.5561,  -1.4940,   0.5608,   0.8707,   1.7942,   3.2467],\n",
      "        [ 14.6000,  11.4133,  -1.5194,   0.7917,   0.7559,   1.7553,  -1.3394],\n",
      "        [ 46.2084, -12.6094,  -1.1359,   0.6822,   0.7340,   1.8176,   4.1003],\n",
      "        [ 40.1405,  -3.8006,  -0.6976,   0.6377,   0.8469,   1.8520,   3.2211],\n",
      "        [ 14.0188,   6.3390,  -1.4290,   0.7715,   1.6939,   1.7392,  -1.1973],\n",
      "        [ 12.6550, -10.1259,  -1.2970,   0.4890,   1.6916,   1.7687,  -1.4249],\n",
      "        [ 13.4155,  -1.1640,  -1.6389,   0.7221,   1.6615,   1.7243,   1.6330],\n",
      "        [ 13.2567,   1.6886,  -1.6371,   0.6017,   1.7698,   1.7652,  -1.3879],\n",
      "        [  8.8710,  -1.7125,  -1.5613,   0.5732,   1.6436,   1.7947,   0.1263],\n",
      "        [ 46.2423, -12.6054,  -1.2113,   0.6232,   1.7502,   1.7433,   4.5164],\n",
      "        [ 10.7793,  -5.5037,  -1.7015,   1.5197,   4.0727,   1.4445,   3.0559],\n",
      "        [ 11.1429,   3.7214,  -1.8180,   1.5659,   3.7419,   1.4105,   0.1278],\n",
      "        [ 18.6968,   0.6088,  -1.1209,   1.6543,   3.9126,   1.6793,   3.1521]])), 'scores_3d': tensor([0.6201, 0.4171, 0.3698, 0.2267, 0.1937, 0.1549, 0.1504, 0.1494, 0.1429,\n",
      "        0.1426, 0.1300, 0.1219, 0.1174, 0.4179, 0.3183, 0.1994, 0.1825, 0.1450,\n",
      "        0.1278, 0.2528, 0.1749, 0.1458]), 'labels_3d': tensor([0, 0, 0, 0, 0, 0, 0, 0, 0, 0, 0, 0, 0, 1, 1, 1, 1, 1, 1, 2, 2, 2])}\n"
     ]
    }
   ],
   "source": [
    "print(len(data))\n",
    "print(data[0])"
   ]
  },
  {
   "cell_type": "code",
   "execution_count": null,
   "id": "36939368-f5d7-4e8d-a1a0-51af369874bb",
   "metadata": {},
   "outputs": [],
   "source": []
  }
 ],
 "metadata": {
  "kernelspec": {
   "display_name": "Python 3",
   "language": "python",
   "name": "python3"
  },
  "language_info": {
   "codemirror_mode": {
    "name": "ipython",
    "version": 3
   },
   "file_extension": ".py",
   "mimetype": "text/x-python",
   "name": "python",
   "nbconvert_exporter": "python",
   "pygments_lexer": "ipython3",
   "version": "3.7.0"
  }
 },
 "nbformat": 4,
 "nbformat_minor": 5
}
